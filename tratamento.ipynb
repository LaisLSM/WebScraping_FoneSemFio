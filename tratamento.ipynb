{
 "cells": [
  {
   "cell_type": "code",
   "execution_count": 30,
   "metadata": {},
   "outputs": [],
   "source": [
    "import pandas as pd\n",
    "df = pd.read_excel('Fones sem Fio.xlsx')\n"
   ]
  },
  {
   "cell_type": "code",
   "execution_count": 31,
   "metadata": {},
   "outputs": [],
   "source": [
    "cores = [\n",
    "    'preto', 'preta', 'black','branco', 'branca', 'white','roxo', 'roxa', 'purple', 'violet',\n",
    "    'rosa', 'pink','lilás', 'lilas', 'lavender','marrom', 'brown','amarelo', 'amarela', 'yellow',\n",
    "    'verde', 'green','bege', 'beige','azul', 'blue','nude', 'nude','vermelho', 'vermelha', 'red', 'cinza',\n",
    "    'cinza claro', 'cinza escuro', 'grafite', 'vinho', 'laranja', 'ciano', 'bubble', 'uva', 'off white', 'grey', \n",
    "    'geada', 'silver', 'marfim', 'marfin', 'prata', 'salmão'\n",
    "]\n",
    "\n",
    "\n",
    "# função que busca a cor no título\n",
    "def extrair_cor(marca):\n",
    "    marca = marca.lower()\n",
    "    for cor in cores:\n",
    "        if cor in marca:\n",
    "            return cor\n",
    "    return 'cor não identificada'\n",
    "\n",
    "# aplicar no DataFrame\n",
    "df['Cor'] = df['Descrição do Produto'].apply(extrair_cor)"
   ]
  },
  {
   "cell_type": "code",
   "execution_count": 32,
   "metadata": {},
   "outputs": [],
   "source": [
    "marca = [\n",
    "    'JBL', 'Samsung', 'Philco', 'Qcy', 'Xiaomi', 'Edifier'\n",
    "]\n",
    "def extrair_marca(marca):\n",
    "    marca = marca.lower()\n",
    "    for marcas in marca:\n",
    "        if marcas in marca:\n",
    "            return marca\n",
    "    return 'Marca não identificada'\n",
    "\n",
    "df['marca'] = df['Descrição do Produto'].apply(extrair_marca)\n"
   ]
  },
  {
   "cell_type": "code",
   "execution_count": 33,
   "metadata": {},
   "outputs": [],
   "source": [
    "df.to_excel(\"Fones sem Fio.xlsx\", index=False)"
   ]
  }
 ],
 "metadata": {
  "kernelspec": {
   "display_name": "Python 3",
   "language": "python",
   "name": "python3"
  },
  "language_info": {
   "codemirror_mode": {
    "name": "ipython",
    "version": 3
   },
   "file_extension": ".py",
   "mimetype": "text/x-python",
   "name": "python",
   "nbconvert_exporter": "python",
   "pygments_lexer": "ipython3",
   "version": "3.12.1"
  }
 },
 "nbformat": 4,
 "nbformat_minor": 2
}
