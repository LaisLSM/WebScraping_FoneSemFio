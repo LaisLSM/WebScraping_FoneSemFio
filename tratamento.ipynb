{
 "cells": [
  {
   "cell_type": "code",
   "execution_count": 1,
   "metadata": {},
   "outputs": [],
   "source": [
    "import pandas as pd\n",
    "df = pd.read_excel('Fones sem Fio.xlsx')\n"
   ]
  },
  {
   "cell_type": "code",
   "execution_count": 2,
   "metadata": {},
   "outputs": [],
   "source": [
    "cores = [\n",
    "    'preto', 'preta', 'black','branco', 'branca', 'white','roxo', 'roxa', 'purple', 'violet',\n",
    "    'rosa', 'pink','lilás', 'lilas', 'lavender','marrom', 'brown','amarelo', 'amarela', 'yellow',\n",
    "    'verde', 'green','bege', 'beige','azul', 'blue','nude', 'nude','vermelho', 'vermelha', 'red', 'cinza',\n",
    "    'cinza claro', 'cinza escuro', 'grafite', 'vinho', 'laranja', 'ciano', 'bubble', 'uva', 'off white', 'grey', \n",
    "    'geada', 'silver', 'marfim', 'marfin', 'prata', 'salmão'\n",
    "]\n",
    "\n",
    "\n",
    "# função que busca a cor no título\n",
    "def extrair_cor(marca):\n",
    "    marca = marca.lower()\n",
    "    for cor in cores:\n",
    "        if cor in marca:\n",
    "            return cor\n",
    "    return 'cor não identificada'\n",
    "\n",
    "# aplicar no DataFrame\n",
    "df['Cor'] = df['Descrição do Produto'].apply(extrair_cor)"
   ]
  },
  {
   "cell_type": "code",
   "execution_count": 3,
   "metadata": {},
   "outputs": [],
   "source": [
    "def tratar_preco(preco_str):\n",
    "    preco_str = preco_str.str.strip()  \n",
    "    return preco_str.str.replace('R$', '', regex=False) \\\n",
    "                    .str.replace('.', '', regex=False) \\\n",
    "                    .str.replace(',', '.', regex=False) \\\n",
    "                    .str.strip() \\\n",
    "                    .astype(float)   \n",
    "df['Preço'] = tratar_preco(df['Preço'])"
   ]
  },
  {
   "cell_type": "code",
   "execution_count": 7,
   "metadata": {},
   "outputs": [],
   "source": [
    "# Lista de marcas encontradas na planilha\n",
    "marcas_conhecidas = ['samsung', 'qcy', 'lenovo', 'jbl', 'kz', 'edifier', 'xiaomi']\n",
    "\n",
    "# Função para extrair a marca\n",
    "def extrair_marca(descricao):\n",
    "    descricao = descricao.lower()\n",
    "    for marca in marcas_conhecidas:\n",
    "        if marca in descricao:\n",
    "            return marca\n",
    "    return 'marca não identificada'\n",
    "\n",
    "# Aplicar ao DataFrame\n",
    "df['Marca'] = df['Descrição do Produto'].apply(extrair_marca)"
   ]
  },
  {
   "cell_type": "code",
   "execution_count": 8,
   "metadata": {},
   "outputs": [],
   "source": [
    "df.to_excel(\"Fones sem Fio.xlsx\", index=False)"
   ]
  }
 ],
 "metadata": {
  "kernelspec": {
   "display_name": "Python 3",
   "language": "python",
   "name": "python3"
  },
  "language_info": {
   "codemirror_mode": {
    "name": "ipython",
    "version": 3
   },
   "file_extension": ".py",
   "mimetype": "text/x-python",
   "name": "python",
   "nbconvert_exporter": "python",
   "pygments_lexer": "ipython3",
   "version": "3.12.1"
  }
 },
 "nbformat": 4,
 "nbformat_minor": 2
}
